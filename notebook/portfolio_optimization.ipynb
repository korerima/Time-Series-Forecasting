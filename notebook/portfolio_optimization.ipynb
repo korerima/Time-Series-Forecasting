{
 "cells": [
  {
   "cell_type": "code",
   "execution_count": 1,
   "metadata": {},
   "outputs": [],
   "source": [
    "# Import necessary libraries\n",
    "import pandas as pd\n",
    "import numpy as np\n",
    "import matplotlib.pyplot as plt\n",
    "import seaborn as sns\n",
    "\n",
    "import os, sys\n",
    "# Add the 'scripts' directory to the Python path for module imports\n",
    "sys.path.append(os.path.abspath(os.path.join('..', 'scripts')))\n",
    "\n",
    "# Set max rows and columns to display\n",
    "pd.set_option('display.max_columns', 200)\n",
    "pd.set_option('display.max_rows', 200)\n",
    "\n",
    "# Assuming this class is defined in scripts/\n",
    "from portifolio_optimization import PortfolioOptimizer\n",
    "\n",
    "\n",
    "# Set default figure size for all plots\n",
    "plt.rcParams['figure.figsize'] = (14, 7)"
   ]
  },
  {
   "cell_type": "code",
   "execution_count": 2,
   "metadata": {},
   "outputs": [],
   "source": [
    "tsla = f'../Data/tsla_forecast_12_months.csv'\n",
    "bnd = f'../Data/bnd_forecast_12_months.csv'\n",
    "spy = f'../Data/spy_forecast_12_months.csv'"
   ]
  },
  {
   "cell_type": "code",
   "execution_count": 3,
   "metadata": {},
   "outputs": [],
   "source": [
    "# Create PortfolioOptimizer object with forecasted data CSVs\n",
    "optimizer = PortfolioOptimizer(tsla, bnd, spy)"
   ]
  },
  {
   "cell_type": "code",
   "execution_count": 4,
   "metadata": {},
   "outputs": [],
   "source": [
    "annual_returns = optimizer.calculate_annual_returns()\n",
    "print(\"Annual Returns for each asset:\\n\", annual_returns)\n",
    "\n",
    "# Get portfolio statistics for current weights (initially set to equal weights)\n",
    "initial_portfolio_stats = optimizer.portfolio_statistics(optimizer.weights)\n",
    "print(\"\\nInitial Portfolio Statistics:\")\n",
    "print(f\"Expected Return: {initial_portfolio_stats[0]}\")\n",
    "print(f\"Risk (Volatility): {initial_portfolio_stats[1]}\")\n",
    "print(f\"Sharpe Ratio: {initial_portfolio_stats[2]}\")\n",
    "\n",
    "# Optimize portfolio weights to maximize Sharpe Ratio\n",
    "optimal_results = optimizer.optimize_portfolio()\n",
    "print(\"\\nOptimized Portfolio Results:\")\n",
    "print(f\"Optimal Weights: {optimal_results['weights']}\")\n",
    "print(f\"Expected Return: {optimal_results['return']}\")\n",
    "print(f\"Risk (Volatility): {optimal_results['risk']}\")\n",
    "print(f\"Sharpe Ratio: {optimal_results['sharpe_ratio']}\")\n",
    "\n",
    "# Calculate and print risk metrics for the optimized portfolio\n",
    "risk_metrics = optimizer.risk_metrics()\n",
    "print(\"\\nRisk Metrics for Optimized Portfolio:\")\n",
    "print(f\"Volatility: {risk_metrics['volatility']}\")\n",
    "print(f\"Value at Risk (VaR) at 95% Confidence: {risk_metrics['VaR_95']}\")\n",
    "\n",
    "# Visualize the portfolio performance over time\n",
    "optimizer.visualize_portfolio_performance()\n",
    "\n",
    "# Generate and print a summary of the portfolio's performance metrics\n",
    "portfolio_summary = optimizer.summary()\n",
    "print(\"\\nPortfolio Summary:\")\n",
    "for key, value in portfolio_summary.items():\n",
    "    print(f\"{key}: {value}\")"
   ]
  }
 ],
 "metadata": {
  "kernelspec": {
   "display_name": "Python 3",
   "language": "python",
   "name": "python3"
  },
  "language_info": {
   "codemirror_mode": {
    "name": "ipython",
    "version": 3
   },
   "file_extension": ".py",
   "mimetype": "text/x-python",
   "name": "python",
   "nbconvert_exporter": "python",
   "pygments_lexer": "ipython3",
   "version": "3.12.8"
  }
 },
 "nbformat": 4,
 "nbformat_minor": 2
}
